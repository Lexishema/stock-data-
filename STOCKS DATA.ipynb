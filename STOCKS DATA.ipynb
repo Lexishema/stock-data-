{
 "cells": [
  {
   "cell_type": "markdown",
   "id": "82f78508",
   "metadata": {},
   "source": [
    "# EXPLORATORY DATA ANALYSIS\n",
    "2013 stock data"
   ]
  },
  {
   "cell_type": "code",
   "execution_count": 3,
   "id": "62b5d07f",
   "metadata": {},
   "outputs": [],
   "source": [
    "#IMPORT PYTHON LIBRARIES\n",
    "import numpy as np\n",
    "import scipy as sp\n",
    "import pandas as pd \n",
    "import matplotlib.pyplot as plt\n",
    "import seaborn as sns"
   ]
  },
  {
   "cell_type": "code",
   "execution_count": 13,
   "id": "1564b768",
   "metadata": {},
   "outputs": [],
   "source": [
    "df = pd.read_csv('NSE_data_all_stocks_2013.csv')"
   ]
  },
  {
   "cell_type": "code",
   "execution_count": 6,
   "id": "ce401cb2",
   "metadata": {},
   "outputs": [],
   "source": [
    "import os"
   ]
  },
  {
   "cell_type": "code",
   "execution_count": 7,
   "id": "17869b97",
   "metadata": {},
   "outputs": [
    {
     "data": {
      "text/plain": [
       "'C:\\\\Users\\\\LEXISHEMA$'"
      ]
     },
     "execution_count": 7,
     "metadata": {},
     "output_type": "execute_result"
    }
   ],
   "source": [
    "os.getcwd()"
   ]
  },
  {
   "cell_type": "code",
   "execution_count": 8,
   "id": "c886cc65",
   "metadata": {},
   "outputs": [],
   "source": [
    "os.chdir(\"C:\\\\Users\\\\LEXISHEMA$\\\\Downloads\")"
   ]
  },
  {
   "cell_type": "code",
   "execution_count": 9,
   "id": "87c43634",
   "metadata": {},
   "outputs": [
    {
     "data": {
      "text/plain": [
       "'C:\\\\Users\\\\LEXISHEMA$\\\\Downloads'"
      ]
     },
     "execution_count": 9,
     "metadata": {},
     "output_type": "execute_result"
    }
   ],
   "source": [
    "os.getcwd()"
   ]
  },
  {
   "cell_type": "code",
   "execution_count": 11,
   "id": "23e15124",
   "metadata": {},
   "outputs": [],
   "source": [
    "df = pd.read_csv('NSE_data_all_stocks_2013.csv')"
   ]
  },
  {
   "cell_type": "code",
   "execution_count": 12,
   "id": "f8f36751",
   "metadata": {},
   "outputs": [
    {
     "data": {
      "text/html": [
       "<div>\n",
       "<style scoped>\n",
       "    .dataframe tbody tr th:only-of-type {\n",
       "        vertical-align: middle;\n",
       "    }\n",
       "\n",
       "    .dataframe tbody tr th {\n",
       "        vertical-align: top;\n",
       "    }\n",
       "\n",
       "    .dataframe thead th {\n",
       "        text-align: right;\n",
       "    }\n",
       "</style>\n",
       "<table border=\"1\" class=\"dataframe\">\n",
       "  <thead>\n",
       "    <tr style=\"text-align: right;\">\n",
       "      <th></th>\n",
       "      <th>DATE</th>\n",
       "      <th>CODE</th>\n",
       "      <th>NAME</th>\n",
       "      <th>12m Low</th>\n",
       "      <th>12m High</th>\n",
       "      <th>Day Low</th>\n",
       "      <th>Day High</th>\n",
       "      <th>Day Price</th>\n",
       "      <th>Previous</th>\n",
       "      <th>Change</th>\n",
       "      <th>Change%</th>\n",
       "      <th>Volume</th>\n",
       "      <th>Adjust</th>\n",
       "    </tr>\n",
       "  </thead>\n",
       "  <tbody>\n",
       "    <tr>\n",
       "      <th>0</th>\n",
       "      <td>2-Jan-13</td>\n",
       "      <td>EGAD</td>\n",
       "      <td>Eaagads Ltd</td>\n",
       "      <td>8.2</td>\n",
       "      <td>14</td>\n",
       "      <td>25</td>\n",
       "      <td>25</td>\n",
       "      <td>25</td>\n",
       "      <td>25</td>\n",
       "      <td>-</td>\n",
       "      <td>-</td>\n",
       "      <td>-</td>\n",
       "      <td>-</td>\n",
       "    </tr>\n",
       "    <tr>\n",
       "      <th>1</th>\n",
       "      <td>2-Jan-13</td>\n",
       "      <td>KUKZ</td>\n",
       "      <td>Kakuzi Plc</td>\n",
       "      <td>300</td>\n",
       "      <td>423.5</td>\n",
       "      <td>67.5</td>\n",
       "      <td>67.5</td>\n",
       "      <td>67.5</td>\n",
       "      <td>72</td>\n",
       "      <td>-4.5</td>\n",
       "      <td>6.25%</td>\n",
       "      <td>300</td>\n",
       "      <td>-</td>\n",
       "    </tr>\n",
       "    <tr>\n",
       "      <th>2</th>\n",
       "      <td>2-Jan-13</td>\n",
       "      <td>KAPC</td>\n",
       "      <td>Kapchorua Tea Kenya Plc</td>\n",
       "      <td>59</td>\n",
       "      <td>95</td>\n",
       "      <td>118</td>\n",
       "      <td>118</td>\n",
       "      <td>118</td>\n",
       "      <td>118</td>\n",
       "      <td>-</td>\n",
       "      <td>-</td>\n",
       "      <td>-</td>\n",
       "      <td>59</td>\n",
       "    </tr>\n",
       "    <tr>\n",
       "      <th>3</th>\n",
       "      <td>2-Jan-13</td>\n",
       "      <td>LIMT</td>\n",
       "      <td>Limuru Tea Plc</td>\n",
       "      <td>385</td>\n",
       "      <td>475</td>\n",
       "      <td>430</td>\n",
       "      <td>430</td>\n",
       "      <td>430</td>\n",
       "      <td>430</td>\n",
       "      <td>-</td>\n",
       "      <td>-</td>\n",
       "      <td>-</td>\n",
       "      <td>215</td>\n",
       "    </tr>\n",
       "    <tr>\n",
       "      <th>4</th>\n",
       "      <td>2-Jan-13</td>\n",
       "      <td>SASN</td>\n",
       "      <td>Sasini Plc</td>\n",
       "      <td>14.8</td>\n",
       "      <td>19.6</td>\n",
       "      <td>11.7</td>\n",
       "      <td>12.05</td>\n",
       "      <td>11.9</td>\n",
       "      <td>11.7</td>\n",
       "      <td>0.2</td>\n",
       "      <td>1.71%</td>\n",
       "      <td>14,500</td>\n",
       "      <td>-</td>\n",
       "    </tr>\n",
       "    <tr>\n",
       "      <th>...</th>\n",
       "      <td>...</td>\n",
       "      <td>...</td>\n",
       "      <td>...</td>\n",
       "      <td>...</td>\n",
       "      <td>...</td>\n",
       "      <td>...</td>\n",
       "      <td>...</td>\n",
       "      <td>...</td>\n",
       "      <td>...</td>\n",
       "      <td>...</td>\n",
       "      <td>...</td>\n",
       "      <td>...</td>\n",
       "      <td>...</td>\n",
       "    </tr>\n",
       "    <tr>\n",
       "      <th>14884</th>\n",
       "      <td>31-Dec-13</td>\n",
       "      <td>SCOM</td>\n",
       "      <td>Safaricom Plc</td>\n",
       "      <td>23.5</td>\n",
       "      <td>33.5</td>\n",
       "      <td>10.8</td>\n",
       "      <td>10.95</td>\n",
       "      <td>10.85</td>\n",
       "      <td>10.85</td>\n",
       "      <td>-</td>\n",
       "      <td>-</td>\n",
       "      <td>2,461,000</td>\n",
       "      <td>-</td>\n",
       "    </tr>\n",
       "    <tr>\n",
       "      <th>14885</th>\n",
       "      <td>31-Dec-13</td>\n",
       "      <td>^FNK15</td>\n",
       "      <td>FTSE NSE Kenya 15 Index</td>\n",
       "      <td>154.41</td>\n",
       "      <td>227.73</td>\n",
       "      <td>172.4</td>\n",
       "      <td>172.4</td>\n",
       "      <td>172.4</td>\n",
       "      <td>172.84</td>\n",
       "      <td>-0.44</td>\n",
       "      <td>0.25%</td>\n",
       "      <td>-</td>\n",
       "      <td>-</td>\n",
       "    </tr>\n",
       "    <tr>\n",
       "      <th>14886</th>\n",
       "      <td>31-Dec-13</td>\n",
       "      <td>^FNK25</td>\n",
       "      <td>FTSE NSE Kenya 25 Index</td>\n",
       "      <td>162.87</td>\n",
       "      <td>238.71</td>\n",
       "      <td>174.27</td>\n",
       "      <td>174.27</td>\n",
       "      <td>174.27</td>\n",
       "      <td>174.56</td>\n",
       "      <td>-0.29</td>\n",
       "      <td>0.17%</td>\n",
       "      <td>-</td>\n",
       "      <td>-</td>\n",
       "    </tr>\n",
       "    <tr>\n",
       "      <th>14887</th>\n",
       "      <td>31-Dec-13</td>\n",
       "      <td>^N20I</td>\n",
       "      <td>NSE 20-Share Index</td>\n",
       "      <td>1,873.47</td>\n",
       "      <td>2,766.77</td>\n",
       "      <td>4,926.97</td>\n",
       "      <td>4,926.97</td>\n",
       "      <td>4,926.97</td>\n",
       "      <td>4,874.29</td>\n",
       "      <td>52.68</td>\n",
       "      <td>1.08%</td>\n",
       "      <td>-</td>\n",
       "      <td>-</td>\n",
       "    </tr>\n",
       "    <tr>\n",
       "      <th>14888</th>\n",
       "      <td>31-Dec-13</td>\n",
       "      <td>^NASI</td>\n",
       "      <td>NSE All-Share Index</td>\n",
       "      <td>124.3</td>\n",
       "      <td>171.36</td>\n",
       "      <td>136.65</td>\n",
       "      <td>136.65</td>\n",
       "      <td>136.65</td>\n",
       "      <td>135.83</td>\n",
       "      <td>0.82</td>\n",
       "      <td>0.60%</td>\n",
       "      <td>-</td>\n",
       "      <td>-</td>\n",
       "    </tr>\n",
       "  </tbody>\n",
       "</table>\n",
       "<p>14889 rows × 13 columns</p>\n",
       "</div>"
      ],
      "text/plain": [
       "            DATE    CODE                     NAME   12m Low  12m High  \\\n",
       "0       2-Jan-13    EGAD              Eaagads Ltd       8.2        14   \n",
       "1       2-Jan-13    KUKZ               Kakuzi Plc       300     423.5   \n",
       "2       2-Jan-13    KAPC  Kapchorua Tea Kenya Plc        59        95   \n",
       "3       2-Jan-13    LIMT           Limuru Tea Plc       385       475   \n",
       "4       2-Jan-13    SASN               Sasini Plc      14.8      19.6   \n",
       "...          ...     ...                      ...       ...       ...   \n",
       "14884  31-Dec-13    SCOM            Safaricom Plc      23.5      33.5   \n",
       "14885  31-Dec-13  ^FNK15  FTSE NSE Kenya 15 Index    154.41    227.73   \n",
       "14886  31-Dec-13  ^FNK25  FTSE NSE Kenya 25 Index    162.87    238.71   \n",
       "14887  31-Dec-13   ^N20I       NSE 20-Share Index  1,873.47  2,766.77   \n",
       "14888  31-Dec-13   ^NASI      NSE All-Share Index     124.3    171.36   \n",
       "\n",
       "        Day Low  Day High Day Price  Previous Change Change%     Volume Adjust  \n",
       "0            25        25        25        25      -       -          -      -  \n",
       "1          67.5      67.5      67.5        72   -4.5   6.25%        300      -  \n",
       "2           118       118       118       118      -       -          -     59  \n",
       "3           430       430       430       430      -       -          -    215  \n",
       "4          11.7     12.05      11.9      11.7    0.2   1.71%     14,500      -  \n",
       "...         ...       ...       ...       ...    ...     ...        ...    ...  \n",
       "14884      10.8     10.95     10.85     10.85      -       -  2,461,000      -  \n",
       "14885     172.4     172.4     172.4    172.84  -0.44   0.25%          -      -  \n",
       "14886    174.27    174.27    174.27    174.56  -0.29   0.17%          -      -  \n",
       "14887  4,926.97  4,926.97  4,926.97  4,874.29  52.68   1.08%          -      -  \n",
       "14888    136.65    136.65    136.65    135.83   0.82   0.60%          -      -  \n",
       "\n",
       "[14889 rows x 13 columns]"
      ]
     },
     "execution_count": 12,
     "metadata": {},
     "output_type": "execute_result"
    }
   ],
   "source": [
    "df"
   ]
  },
  {
   "cell_type": "markdown",
   "id": "86186c1b",
   "metadata": {},
   "source": [
    "#data frame data types"
   ]
  },
  {
   "cell_type": "code",
   "execution_count": 17,
   "id": "1ba51a19",
   "metadata": {},
   "outputs": [
    {
     "data": {
      "text/plain": [
       "dtype('O')"
      ]
     },
     "execution_count": 17,
     "metadata": {},
     "output_type": "execute_result"
    }
   ],
   "source": [
    "#check a particular column type\n",
    "df['Day Low'].dtype"
   ]
  },
  {
   "cell_type": "code",
   "execution_count": 18,
   "id": "a1fb680b",
   "metadata": {},
   "outputs": [
    {
     "data": {
      "text/plain": [
       "DATE         object\n",
       "CODE         object\n",
       "NAME         object\n",
       "12m Low      object\n",
       "12m High     object\n",
       "Day Low      object\n",
       "Day High     object\n",
       "Day Price    object\n",
       "Previous     object\n",
       "Change       object\n",
       "Change%      object\n",
       "Volume       object\n",
       "Adjust       object\n",
       "dtype: object"
      ]
     },
     "execution_count": 18,
     "metadata": {},
     "output_type": "execute_result"
    }
   ],
   "source": [
    "#check types for all the columns\n",
    "df.dtypes"
   ]
  },
  {
   "cell_type": "markdown",
   "id": "9f1efbda",
   "metadata": {},
   "source": [
    "#data frames attributes"
   ]
  },
  {
   "cell_type": "code",
   "execution_count": 19,
   "id": "181217ef",
   "metadata": {},
   "outputs": [
    {
     "data": {
      "text/plain": [
       "(14889, 13)"
      ]
     },
     "execution_count": 19,
     "metadata": {},
     "output_type": "execute_result"
    }
   ],
   "source": [
    "#find how many records this data has\n",
    "df.shape"
   ]
  },
  {
   "cell_type": "code",
   "execution_count": 20,
   "id": "97f0c4f2",
   "metadata": {},
   "outputs": [
    {
     "data": {
      "text/plain": [
       "193557"
      ]
     },
     "execution_count": 20,
     "metadata": {},
     "output_type": "execute_result"
    }
   ],
   "source": [
    "#how many elements are there \n",
    "df.size"
   ]
  },
  {
   "cell_type": "code",
   "execution_count": 21,
   "id": "d6c23401",
   "metadata": {},
   "outputs": [
    {
     "data": {
      "text/plain": [
       "Index(['DATE', 'CODE', 'NAME', '12m Low', '12m High', 'Day Low', 'Day High',\n",
       "       'Day Price', 'Previous', 'Change', 'Change%', 'Volume', 'Adjust'],\n",
       "      dtype='object')"
      ]
     },
     "execution_count": 21,
     "metadata": {},
     "output_type": "execute_result"
    }
   ],
   "source": [
    "#what are the column name?\n",
    "df.columns"
   ]
  },
  {
   "cell_type": "markdown",
   "id": "35627938",
   "metadata": {},
   "source": [
    "#data frames methods"
   ]
  },
  {
   "cell_type": "code",
   "execution_count": 22,
   "id": "ad3f21ce",
   "metadata": {},
   "outputs": [
    {
     "data": {
      "text/html": [
       "<div>\n",
       "<style scoped>\n",
       "    .dataframe tbody tr th:only-of-type {\n",
       "        vertical-align: middle;\n",
       "    }\n",
       "\n",
       "    .dataframe tbody tr th {\n",
       "        vertical-align: top;\n",
       "    }\n",
       "\n",
       "    .dataframe thead th {\n",
       "        text-align: right;\n",
       "    }\n",
       "</style>\n",
       "<table border=\"1\" class=\"dataframe\">\n",
       "  <thead>\n",
       "    <tr style=\"text-align: right;\">\n",
       "      <th></th>\n",
       "      <th>DATE</th>\n",
       "      <th>CODE</th>\n",
       "      <th>NAME</th>\n",
       "      <th>12m Low</th>\n",
       "      <th>12m High</th>\n",
       "      <th>Day Low</th>\n",
       "      <th>Day High</th>\n",
       "      <th>Day Price</th>\n",
       "      <th>Previous</th>\n",
       "      <th>Change</th>\n",
       "      <th>Change%</th>\n",
       "      <th>Volume</th>\n",
       "      <th>Adjust</th>\n",
       "    </tr>\n",
       "  </thead>\n",
       "  <tbody>\n",
       "    <tr>\n",
       "      <th>count</th>\n",
       "      <td>14889</td>\n",
       "      <td>14889</td>\n",
       "      <td>14889</td>\n",
       "      <td>14889</td>\n",
       "      <td>14889</td>\n",
       "      <td>14889</td>\n",
       "      <td>14889</td>\n",
       "      <td>14889</td>\n",
       "      <td>14889</td>\n",
       "      <td>14889</td>\n",
       "      <td>14889</td>\n",
       "      <td>14889</td>\n",
       "      <td>14889</td>\n",
       "    </tr>\n",
       "    <tr>\n",
       "      <th>unique</th>\n",
       "      <td>247</td>\n",
       "      <td>62</td>\n",
       "      <td>62</td>\n",
       "      <td>90</td>\n",
       "      <td>101</td>\n",
       "      <td>1811</td>\n",
       "      <td>1807</td>\n",
       "      <td>2146</td>\n",
       "      <td>2147</td>\n",
       "      <td>677</td>\n",
       "      <td>785</td>\n",
       "      <td>4443</td>\n",
       "      <td>1040</td>\n",
       "    </tr>\n",
       "    <tr>\n",
       "      <th>top</th>\n",
       "      <td>20-Dec-13</td>\n",
       "      <td>BRIT</td>\n",
       "      <td>ABSA Bank Kenya Plc</td>\n",
       "      <td>2</td>\n",
       "      <td>33.5</td>\n",
       "      <td>5.5</td>\n",
       "      <td>3</td>\n",
       "      <td>5.5</td>\n",
       "      <td>5.5</td>\n",
       "      <td>-</td>\n",
       "      <td>-</td>\n",
       "      <td>-</td>\n",
       "      <td>-</td>\n",
       "    </tr>\n",
       "    <tr>\n",
       "      <th>freq</th>\n",
       "      <td>62</td>\n",
       "      <td>247</td>\n",
       "      <td>247</td>\n",
       "      <td>476</td>\n",
       "      <td>494</td>\n",
       "      <td>269</td>\n",
       "      <td>273</td>\n",
       "      <td>262</td>\n",
       "      <td>262</td>\n",
       "      <td>5096</td>\n",
       "      <td>5099</td>\n",
       "      <td>3231</td>\n",
       "      <td>10521</td>\n",
       "    </tr>\n",
       "  </tbody>\n",
       "</table>\n",
       "</div>"
      ],
      "text/plain": [
       "             DATE   CODE                 NAME 12m Low 12m High Day Low  \\\n",
       "count       14889  14889                14889   14889    14889   14889   \n",
       "unique        247     62                   62      90      101    1811   \n",
       "top     20-Dec-13   BRIT  ABSA Bank Kenya Plc       2     33.5     5.5   \n",
       "freq           62    247                  247     476      494     269   \n",
       "\n",
       "       Day High Day Price Previous Change Change% Volume Adjust  \n",
       "count     14889     14889    14889  14889   14889  14889  14889  \n",
       "unique     1807      2146     2147    677     785   4443   1040  \n",
       "top           3       5.5      5.5      -       -      -      -  \n",
       "freq        273       262      262   5096    5099   3231  10521  "
      ]
     },
     "execution_count": 22,
     "metadata": {},
     "output_type": "execute_result"
    }
   ],
   "source": [
    "#give the summary for the numeric column in the dataset\n",
    "df.describe()"
   ]
  },
  {
   "cell_type": "code",
   "execution_count": 23,
   "id": "f847d134",
   "metadata": {},
   "outputs": [
    {
     "data": {
      "text/plain": [
       "Series([], dtype: float64)"
      ]
     },
     "execution_count": 23,
     "metadata": {},
     "output_type": "execute_result"
    }
   ],
   "source": [
    "#calculate standard deviation for all the numeric columns\n",
    "df.std()"
   ]
  },
  {
   "cell_type": "code",
   "execution_count": 29,
   "id": "1a7923fd",
   "metadata": {},
   "outputs": [
    {
     "data": {
      "text/plain": [
       "Series([], dtype: float64)"
      ]
     },
     "execution_count": 29,
     "metadata": {},
     "output_type": "execute_result"
    }
   ],
   "source": [
    "#what are the mean values for all numeric column ?\n",
    "df.mean()"
   ]
  },
  {
   "cell_type": "code",
   "execution_count": null,
   "id": "d7428f55",
   "metadata": {},
   "outputs": [],
   "source": [
    "#2014 data"
   ]
  },
  {
   "cell_type": "code",
   "execution_count": 31,
   "id": "4bb015bd",
   "metadata": {},
   "outputs": [],
   "source": [
    "import os"
   ]
  },
  {
   "cell_type": "code",
   "execution_count": 32,
   "id": "827e7793",
   "metadata": {},
   "outputs": [
    {
     "data": {
      "text/plain": [
       "'C:\\\\Users\\\\LEXISHEMA$\\\\Downloads'"
      ]
     },
     "execution_count": 32,
     "metadata": {},
     "output_type": "execute_result"
    }
   ],
   "source": [
    "os.getcwd()"
   ]
  },
  {
   "cell_type": "code",
   "execution_count": 33,
   "id": "af3f4b6a",
   "metadata": {},
   "outputs": [],
   "source": [
    "df = pd.read_csv('NSE_data_all_stocks_2014.csv')"
   ]
  },
  {
   "cell_type": "code",
   "execution_count": 34,
   "id": "c9ccb35c",
   "metadata": {},
   "outputs": [
    {
     "data": {
      "text/html": [
       "<div>\n",
       "<style scoped>\n",
       "    .dataframe tbody tr th:only-of-type {\n",
       "        vertical-align: middle;\n",
       "    }\n",
       "\n",
       "    .dataframe tbody tr th {\n",
       "        vertical-align: top;\n",
       "    }\n",
       "\n",
       "    .dataframe thead th {\n",
       "        text-align: right;\n",
       "    }\n",
       "</style>\n",
       "<table border=\"1\" class=\"dataframe\">\n",
       "  <thead>\n",
       "    <tr style=\"text-align: right;\">\n",
       "      <th></th>\n",
       "      <th>DATE</th>\n",
       "      <th>CODE</th>\n",
       "      <th>NAME</th>\n",
       "      <th>12m Low</th>\n",
       "      <th>12m High</th>\n",
       "      <th>Day Low</th>\n",
       "      <th>Day High</th>\n",
       "      <th>Day Price</th>\n",
       "      <th>Previous</th>\n",
       "      <th>Change</th>\n",
       "      <th>Change%</th>\n",
       "      <th>Volume</th>\n",
       "      <th>Adjust</th>\n",
       "    </tr>\n",
       "  </thead>\n",
       "  <tbody>\n",
       "    <tr>\n",
       "      <th>0</th>\n",
       "      <td>02-Jan-14</td>\n",
       "      <td>EGAD</td>\n",
       "      <td>Eaagads Ltd</td>\n",
       "      <td>8.2</td>\n",
       "      <td>14</td>\n",
       "      <td>23.75</td>\n",
       "      <td>23.75</td>\n",
       "      <td>23.75</td>\n",
       "      <td>23.75</td>\n",
       "      <td>-</td>\n",
       "      <td>-</td>\n",
       "      <td>1,600</td>\n",
       "      <td>-</td>\n",
       "    </tr>\n",
       "    <tr>\n",
       "      <th>1</th>\n",
       "      <td>02-Jan-14</td>\n",
       "      <td>KUKZ</td>\n",
       "      <td>Kakuzi Plc</td>\n",
       "      <td>300</td>\n",
       "      <td>423.5</td>\n",
       "      <td>95</td>\n",
       "      <td>95</td>\n",
       "      <td>95</td>\n",
       "      <td>95</td>\n",
       "      <td>-</td>\n",
       "      <td>-</td>\n",
       "      <td>100</td>\n",
       "      <td>-</td>\n",
       "    </tr>\n",
       "    <tr>\n",
       "      <th>2</th>\n",
       "      <td>02-Jan-14</td>\n",
       "      <td>KAPC</td>\n",
       "      <td>Kapchorua Tea Kenya Plc</td>\n",
       "      <td>59</td>\n",
       "      <td>95</td>\n",
       "      <td>125</td>\n",
       "      <td>125</td>\n",
       "      <td>125</td>\n",
       "      <td>125</td>\n",
       "      <td>-</td>\n",
       "      <td>-</td>\n",
       "      <td>-</td>\n",
       "      <td>62.5</td>\n",
       "    </tr>\n",
       "    <tr>\n",
       "      <th>3</th>\n",
       "      <td>02-Jan-14</td>\n",
       "      <td>LIMT</td>\n",
       "      <td>Limuru Tea Plc</td>\n",
       "      <td>385</td>\n",
       "      <td>475</td>\n",
       "      <td>500</td>\n",
       "      <td>500</td>\n",
       "      <td>500</td>\n",
       "      <td>500</td>\n",
       "      <td>-</td>\n",
       "      <td>-</td>\n",
       "      <td>-</td>\n",
       "      <td>250</td>\n",
       "    </tr>\n",
       "    <tr>\n",
       "      <th>4</th>\n",
       "      <td>02-Jan-14</td>\n",
       "      <td>SASN</td>\n",
       "      <td>Sasini Plc</td>\n",
       "      <td>14.8</td>\n",
       "      <td>19</td>\n",
       "      <td>14.7</td>\n",
       "      <td>15</td>\n",
       "      <td>14.7</td>\n",
       "      <td>14.65</td>\n",
       "      <td>0.05</td>\n",
       "      <td>0.34%</td>\n",
       "      <td>18,600</td>\n",
       "      <td>-</td>\n",
       "    </tr>\n",
       "    <tr>\n",
       "      <th>...</th>\n",
       "      <td>...</td>\n",
       "      <td>...</td>\n",
       "      <td>...</td>\n",
       "      <td>...</td>\n",
       "      <td>...</td>\n",
       "      <td>...</td>\n",
       "      <td>...</td>\n",
       "      <td>...</td>\n",
       "      <td>...</td>\n",
       "      <td>...</td>\n",
       "      <td>...</td>\n",
       "      <td>...</td>\n",
       "      <td>...</td>\n",
       "    </tr>\n",
       "    <tr>\n",
       "      <th>15691</th>\n",
       "      <td>31-Dec-14</td>\n",
       "      <td>^FNK15</td>\n",
       "      <td>FTSE NSE Kenya 15 Index</td>\n",
       "      <td>154.41</td>\n",
       "      <td>227.73</td>\n",
       "      <td>213.51</td>\n",
       "      <td>219.66</td>\n",
       "      <td>215.49</td>\n",
       "      <td>217.76</td>\n",
       "      <td>-2.27</td>\n",
       "      <td>1.04%</td>\n",
       "      <td>-</td>\n",
       "      <td>-</td>\n",
       "    </tr>\n",
       "    <tr>\n",
       "      <th>15692</th>\n",
       "      <td>31-Dec-14</td>\n",
       "      <td>^FNK25</td>\n",
       "      <td>FTSE NSE Kenya 25 Index</td>\n",
       "      <td>162.87</td>\n",
       "      <td>238.71</td>\n",
       "      <td>214.39</td>\n",
       "      <td>220.6</td>\n",
       "      <td>216.42</td>\n",
       "      <td>218.7</td>\n",
       "      <td>-2.28</td>\n",
       "      <td>1.04%</td>\n",
       "      <td>-</td>\n",
       "      <td>-</td>\n",
       "    </tr>\n",
       "    <tr>\n",
       "      <th>15693</th>\n",
       "      <td>31-Dec-14</td>\n",
       "      <td>^N20I</td>\n",
       "      <td>NSE 20-Share Index</td>\n",
       "      <td>1,873.47</td>\n",
       "      <td>2,766.77</td>\n",
       "      <td>5,112.65</td>\n",
       "      <td>5,112.65</td>\n",
       "      <td>5,112.65</td>\n",
       "      <td>5,091.60</td>\n",
       "      <td>21.05</td>\n",
       "      <td>0.41%</td>\n",
       "      <td>-</td>\n",
       "      <td>-</td>\n",
       "    </tr>\n",
       "    <tr>\n",
       "      <th>15694</th>\n",
       "      <td>31-Dec-14</td>\n",
       "      <td>^NASI</td>\n",
       "      <td>NSE All-Share Index</td>\n",
       "      <td>124.3</td>\n",
       "      <td>171.36</td>\n",
       "      <td>162.89</td>\n",
       "      <td>162.89</td>\n",
       "      <td>162.89</td>\n",
       "      <td>163.25</td>\n",
       "      <td>-0.36</td>\n",
       "      <td>0.22%</td>\n",
       "      <td>-</td>\n",
       "      <td>-</td>\n",
       "    </tr>\n",
       "    <tr>\n",
       "      <th>15695</th>\n",
       "      <td>NaN</td>\n",
       "      <td>NaN</td>\n",
       "      <td>NaN</td>\n",
       "      <td>NaN</td>\n",
       "      <td>NaN</td>\n",
       "      <td>NaN</td>\n",
       "      <td>NaN</td>\n",
       "      <td>NaN</td>\n",
       "      <td>NaN</td>\n",
       "      <td>NaN</td>\n",
       "      <td>NaN</td>\n",
       "      <td>NaN</td>\n",
       "      <td>NaN</td>\n",
       "    </tr>\n",
       "  </tbody>\n",
       "</table>\n",
       "<p>15696 rows × 13 columns</p>\n",
       "</div>"
      ],
      "text/plain": [
       "            DATE    CODE                     NAME   12m Low  12m High  \\\n",
       "0      02-Jan-14    EGAD              Eaagads Ltd       8.2        14   \n",
       "1      02-Jan-14    KUKZ               Kakuzi Plc       300     423.5   \n",
       "2      02-Jan-14    KAPC  Kapchorua Tea Kenya Plc        59        95   \n",
       "3      02-Jan-14    LIMT           Limuru Tea Plc       385       475   \n",
       "4      02-Jan-14    SASN               Sasini Plc      14.8        19   \n",
       "...          ...     ...                      ...       ...       ...   \n",
       "15691  31-Dec-14  ^FNK15  FTSE NSE Kenya 15 Index    154.41    227.73   \n",
       "15692  31-Dec-14  ^FNK25  FTSE NSE Kenya 25 Index    162.87    238.71   \n",
       "15693  31-Dec-14   ^N20I       NSE 20-Share Index  1,873.47  2,766.77   \n",
       "15694  31-Dec-14   ^NASI      NSE All-Share Index     124.3    171.36   \n",
       "15695        NaN     NaN                      NaN       NaN       NaN   \n",
       "\n",
       "        Day Low  Day High Day Price  Previous Change Change%  Volume Adjust  \n",
       "0         23.75     23.75     23.75     23.75      -       -   1,600      -  \n",
       "1            95        95        95        95      -       -     100      -  \n",
       "2           125       125       125       125      -       -       -   62.5  \n",
       "3           500       500       500       500      -       -       -    250  \n",
       "4          14.7        15      14.7     14.65   0.05   0.34%  18,600      -  \n",
       "...         ...       ...       ...       ...    ...     ...     ...    ...  \n",
       "15691    213.51    219.66    215.49    217.76  -2.27   1.04%       -      -  \n",
       "15692    214.39     220.6    216.42     218.7  -2.28   1.04%       -      -  \n",
       "15693  5,112.65  5,112.65  5,112.65  5,091.60  21.05   0.41%       -      -  \n",
       "15694    162.89    162.89    162.89    163.25  -0.36   0.22%       -      -  \n",
       "15695       NaN       NaN       NaN       NaN    NaN     NaN     NaN    NaN  \n",
       "\n",
       "[15696 rows x 13 columns]"
      ]
     },
     "execution_count": 34,
     "metadata": {},
     "output_type": "execute_result"
    }
   ],
   "source": [
    "df"
   ]
  },
  {
   "cell_type": "markdown",
   "id": "6a45f636",
   "metadata": {},
   "source": [
    "#data frames data types"
   ]
  },
  {
   "cell_type": "code",
   "execution_count": 35,
   "id": "13c25efd",
   "metadata": {},
   "outputs": [
    {
     "data": {
      "text/plain": [
       "dtype('O')"
      ]
     },
     "execution_count": 35,
     "metadata": {},
     "output_type": "execute_result"
    }
   ],
   "source": [
    "#check a particular column type\n",
    "df['Day Price'].dtype"
   ]
  },
  {
   "cell_type": "code",
   "execution_count": 36,
   "id": "ea502891",
   "metadata": {
    "scrolled": true
   },
   "outputs": [
    {
     "data": {
      "text/plain": [
       "DATE         object\n",
       "CODE         object\n",
       "NAME         object\n",
       "12m Low      object\n",
       "12m High     object\n",
       "Day Low      object\n",
       "Day High     object\n",
       "Day Price    object\n",
       "Previous     object\n",
       "Change       object\n",
       "Change%      object\n",
       "Volume       object\n",
       "Adjust       object\n",
       "dtype: object"
      ]
     },
     "execution_count": 36,
     "metadata": {},
     "output_type": "execute_result"
    }
   ],
   "source": [
    "#check types for all the columns \n",
    "df.dtypes"
   ]
  },
  {
   "cell_type": "markdown",
   "id": "7077822f",
   "metadata": {},
   "source": [
    "#data frame attributes"
   ]
  },
  {
   "cell_type": "code",
   "execution_count": 37,
   "id": "de6acac1",
   "metadata": {},
   "outputs": [
    {
     "data": {
      "text/plain": [
       "(15696, 13)"
      ]
     },
     "execution_count": 37,
     "metadata": {},
     "output_type": "execute_result"
    }
   ],
   "source": [
    "#find how many records this data frame has\n",
    "df.shape"
   ]
  },
  {
   "cell_type": "code",
   "execution_count": 38,
   "id": "09b1df83",
   "metadata": {},
   "outputs": [
    {
     "data": {
      "text/plain": [
       "204048"
      ]
     },
     "execution_count": 38,
     "metadata": {},
     "output_type": "execute_result"
    }
   ],
   "source": [
    "#how many elements are there?\n",
    "df.size"
   ]
  },
  {
   "cell_type": "code",
   "execution_count": 39,
   "id": "8caad24f",
   "metadata": {},
   "outputs": [
    {
     "data": {
      "text/plain": [
       "Index(['DATE', 'CODE', 'NAME', '12m Low', '12m High', 'Day Low', 'Day High',\n",
       "       'Day Price', 'Previous', 'Change', 'Change%', 'Volume', 'Adjust'],\n",
       "      dtype='object')"
      ]
     },
     "execution_count": 39,
     "metadata": {},
     "output_type": "execute_result"
    }
   ],
   "source": [
    "#what are the column names?\n",
    "df.columns"
   ]
  },
  {
   "cell_type": "markdown",
   "id": "0bd473e5",
   "metadata": {},
   "source": [
    "#data frame methods"
   ]
  },
  {
   "cell_type": "code",
   "execution_count": 40,
   "id": "678f277b",
   "metadata": {},
   "outputs": [
    {
     "data": {
      "text/html": [
       "<div>\n",
       "<style scoped>\n",
       "    .dataframe tbody tr th:only-of-type {\n",
       "        vertical-align: middle;\n",
       "    }\n",
       "\n",
       "    .dataframe tbody tr th {\n",
       "        vertical-align: top;\n",
       "    }\n",
       "\n",
       "    .dataframe thead th {\n",
       "        text-align: right;\n",
       "    }\n",
       "</style>\n",
       "<table border=\"1\" class=\"dataframe\">\n",
       "  <thead>\n",
       "    <tr style=\"text-align: right;\">\n",
       "      <th></th>\n",
       "      <th>DATE</th>\n",
       "      <th>CODE</th>\n",
       "      <th>NAME</th>\n",
       "      <th>12m Low</th>\n",
       "      <th>12m High</th>\n",
       "      <th>Day Low</th>\n",
       "      <th>Day High</th>\n",
       "      <th>Day Price</th>\n",
       "      <th>Previous</th>\n",
       "      <th>Change</th>\n",
       "      <th>Change%</th>\n",
       "      <th>Volume</th>\n",
       "      <th>Adjust</th>\n",
       "    </tr>\n",
       "  </thead>\n",
       "  <tbody>\n",
       "    <tr>\n",
       "      <th>count</th>\n",
       "      <td>15695</td>\n",
       "      <td>15695</td>\n",
       "      <td>15695</td>\n",
       "      <td>15695</td>\n",
       "      <td>15695</td>\n",
       "      <td>15695</td>\n",
       "      <td>15695</td>\n",
       "      <td>15695</td>\n",
       "      <td>15695</td>\n",
       "      <td>15695</td>\n",
       "      <td>15695</td>\n",
       "      <td>15695</td>\n",
       "      <td>15695</td>\n",
       "    </tr>\n",
       "    <tr>\n",
       "      <th>unique</th>\n",
       "      <td>251</td>\n",
       "      <td>65</td>\n",
       "      <td>65</td>\n",
       "      <td>96</td>\n",
       "      <td>102</td>\n",
       "      <td>1932</td>\n",
       "      <td>1935</td>\n",
       "      <td>2361</td>\n",
       "      <td>2359</td>\n",
       "      <td>765</td>\n",
       "      <td>857</td>\n",
       "      <td>4881</td>\n",
       "      <td>1190</td>\n",
       "    </tr>\n",
       "    <tr>\n",
       "      <th>top</th>\n",
       "      <td>29-Dec-14</td>\n",
       "      <td>BRIT</td>\n",
       "      <td>ABSA Bank Kenya Plc</td>\n",
       "      <td>2</td>\n",
       "      <td>33.5</td>\n",
       "      <td>5.5</td>\n",
       "      <td>5.5</td>\n",
       "      <td>5.5</td>\n",
       "      <td>5.5</td>\n",
       "      <td>-</td>\n",
       "      <td>-</td>\n",
       "      <td>-</td>\n",
       "      <td>-</td>\n",
       "    </tr>\n",
       "    <tr>\n",
       "      <th>freq</th>\n",
       "      <td>65</td>\n",
       "      <td>251</td>\n",
       "      <td>251</td>\n",
       "      <td>491</td>\n",
       "      <td>502</td>\n",
       "      <td>264</td>\n",
       "      <td>259</td>\n",
       "      <td>256</td>\n",
       "      <td>256</td>\n",
       "      <td>4675</td>\n",
       "      <td>4681</td>\n",
       "      <td>2957</td>\n",
       "      <td>11655</td>\n",
       "    </tr>\n",
       "  </tbody>\n",
       "</table>\n",
       "</div>"
      ],
      "text/plain": [
       "             DATE   CODE                 NAME 12m Low 12m High Day Low  \\\n",
       "count       15695  15695                15695   15695    15695   15695   \n",
       "unique        251     65                   65      96      102    1932   \n",
       "top     29-Dec-14   BRIT  ABSA Bank Kenya Plc       2     33.5     5.5   \n",
       "freq           65    251                  251     491      502     264   \n",
       "\n",
       "       Day High Day Price Previous Change Change% Volume Adjust  \n",
       "count     15695     15695    15695  15695   15695  15695  15695  \n",
       "unique     1935      2361     2359    765     857   4881   1190  \n",
       "top         5.5       5.5      5.5      -       -      -      -  \n",
       "freq        259       256      256   4675    4681   2957  11655  "
      ]
     },
     "execution_count": 40,
     "metadata": {},
     "output_type": "execute_result"
    }
   ],
   "source": [
    "#give the summary for the numeric columns in the dataset\n",
    "df.describe()"
   ]
  },
  {
   "cell_type": "code",
   "execution_count": 41,
   "id": "61d9fcd9",
   "metadata": {},
   "outputs": [
    {
     "data": {
      "text/plain": [
       "Series([], dtype: float64)"
      ]
     },
     "execution_count": 41,
     "metadata": {},
     "output_type": "execute_result"
    }
   ],
   "source": [
    "#calculate standard deviation for all numeric columns \n",
    "df.std()"
   ]
  },
  {
   "cell_type": "markdown",
   "id": "98ff6c74",
   "metadata": {},
   "source": [
    "#2015 data"
   ]
  },
  {
   "cell_type": "code",
   "execution_count": 42,
   "id": "67c0c379",
   "metadata": {},
   "outputs": [],
   "source": [
    "import os"
   ]
  },
  {
   "cell_type": "code",
   "execution_count": 43,
   "id": "628eea38",
   "metadata": {},
   "outputs": [
    {
     "data": {
      "text/plain": [
       "'C:\\\\Users\\\\LEXISHEMA$\\\\Downloads'"
      ]
     },
     "execution_count": 43,
     "metadata": {},
     "output_type": "execute_result"
    }
   ],
   "source": [
    "os.getcwd()"
   ]
  },
  {
   "cell_type": "code",
   "execution_count": 44,
   "id": "856997dd",
   "metadata": {},
   "outputs": [],
   "source": [
    "df = pd.read_csv('NSE_data_all_stocks_2015.csv')"
   ]
  },
  {
   "cell_type": "code",
   "execution_count": 45,
   "id": "20316d4f",
   "metadata": {},
   "outputs": [
    {
     "data": {
      "text/html": [
       "<div>\n",
       "<style scoped>\n",
       "    .dataframe tbody tr th:only-of-type {\n",
       "        vertical-align: middle;\n",
       "    }\n",
       "\n",
       "    .dataframe tbody tr th {\n",
       "        vertical-align: top;\n",
       "    }\n",
       "\n",
       "    .dataframe thead th {\n",
       "        text-align: right;\n",
       "    }\n",
       "</style>\n",
       "<table border=\"1\" class=\"dataframe\">\n",
       "  <thead>\n",
       "    <tr style=\"text-align: right;\">\n",
       "      <th></th>\n",
       "      <th>DATE</th>\n",
       "      <th>CODE</th>\n",
       "      <th>NAME</th>\n",
       "      <th>12m Low</th>\n",
       "      <th>12m High</th>\n",
       "      <th>Day Low</th>\n",
       "      <th>Day High</th>\n",
       "      <th>Day Price</th>\n",
       "      <th>Previous</th>\n",
       "      <th>Change</th>\n",
       "      <th>Change%</th>\n",
       "      <th>Volume</th>\n",
       "      <th>Adjust</th>\n",
       "    </tr>\n",
       "  </thead>\n",
       "  <tbody>\n",
       "    <tr>\n",
       "      <th>0</th>\n",
       "      <td>2-Jan-15</td>\n",
       "      <td>EGAD</td>\n",
       "      <td>Eaagads Ltd</td>\n",
       "      <td>8.2</td>\n",
       "      <td>14</td>\n",
       "      <td>42</td>\n",
       "      <td>42</td>\n",
       "      <td>42</td>\n",
       "      <td>42</td>\n",
       "      <td>-</td>\n",
       "      <td>-</td>\n",
       "      <td>-</td>\n",
       "      <td>-</td>\n",
       "    </tr>\n",
       "    <tr>\n",
       "      <th>1</th>\n",
       "      <td>2-Jan-15</td>\n",
       "      <td>KUKZ</td>\n",
       "      <td>Kakuzi Plc</td>\n",
       "      <td>300</td>\n",
       "      <td>423.5</td>\n",
       "      <td>180</td>\n",
       "      <td>180</td>\n",
       "      <td>180</td>\n",
       "      <td>180</td>\n",
       "      <td>-</td>\n",
       "      <td>-</td>\n",
       "      <td>5,200</td>\n",
       "      <td>-</td>\n",
       "    </tr>\n",
       "    <tr>\n",
       "      <th>2</th>\n",
       "      <td>2-Jan-15</td>\n",
       "      <td>KAPC</td>\n",
       "      <td>Kapchorua Tea Kenya Plc</td>\n",
       "      <td>59</td>\n",
       "      <td>95</td>\n",
       "      <td>137</td>\n",
       "      <td>137</td>\n",
       "      <td>137</td>\n",
       "      <td>137</td>\n",
       "      <td>-</td>\n",
       "      <td>-</td>\n",
       "      <td>-</td>\n",
       "      <td>68.5</td>\n",
       "    </tr>\n",
       "    <tr>\n",
       "      <th>3</th>\n",
       "      <td>2-Jan-15</td>\n",
       "      <td>LIMT</td>\n",
       "      <td>Limuru Tea Plc</td>\n",
       "      <td>385</td>\n",
       "      <td>475</td>\n",
       "      <td>771</td>\n",
       "      <td>771</td>\n",
       "      <td>771</td>\n",
       "      <td>771</td>\n",
       "      <td>-</td>\n",
       "      <td>-</td>\n",
       "      <td>-</td>\n",
       "      <td>385.5</td>\n",
       "    </tr>\n",
       "    <tr>\n",
       "      <th>4</th>\n",
       "      <td>2-Jan-15</td>\n",
       "      <td>SASN</td>\n",
       "      <td>Sasini Plc</td>\n",
       "      <td>14.8</td>\n",
       "      <td>19.6</td>\n",
       "      <td>13</td>\n",
       "      <td>13</td>\n",
       "      <td>13</td>\n",
       "      <td>12.85</td>\n",
       "      <td>0.15</td>\n",
       "      <td>1.17%</td>\n",
       "      <td>1,000</td>\n",
       "      <td>-</td>\n",
       "    </tr>\n",
       "    <tr>\n",
       "      <th>...</th>\n",
       "      <td>...</td>\n",
       "      <td>...</td>\n",
       "      <td>...</td>\n",
       "      <td>...</td>\n",
       "      <td>...</td>\n",
       "      <td>...</td>\n",
       "      <td>...</td>\n",
       "      <td>...</td>\n",
       "      <td>...</td>\n",
       "      <td>...</td>\n",
       "      <td>...</td>\n",
       "      <td>...</td>\n",
       "      <td>...</td>\n",
       "    </tr>\n",
       "    <tr>\n",
       "      <th>16381</th>\n",
       "      <td>31-Dec-15</td>\n",
       "      <td>^FNK15</td>\n",
       "      <td>FTSE NSE Kenya 15 Index</td>\n",
       "      <td>154.41</td>\n",
       "      <td>227.73</td>\n",
       "      <td>182.69</td>\n",
       "      <td>186.64</td>\n",
       "      <td>186.64</td>\n",
       "      <td>182.69</td>\n",
       "      <td>3.95</td>\n",
       "      <td>2.16%</td>\n",
       "      <td>-</td>\n",
       "      <td>-</td>\n",
       "    </tr>\n",
       "    <tr>\n",
       "      <th>16382</th>\n",
       "      <td>31-Dec-15</td>\n",
       "      <td>^FNK25</td>\n",
       "      <td>FTSE NSE Kenya 25 Index</td>\n",
       "      <td>162.87</td>\n",
       "      <td>238.71</td>\n",
       "      <td>182.32</td>\n",
       "      <td>186.25</td>\n",
       "      <td>186.25</td>\n",
       "      <td>182.32</td>\n",
       "      <td>3.93</td>\n",
       "      <td>2.16%</td>\n",
       "      <td>-</td>\n",
       "      <td>-</td>\n",
       "    </tr>\n",
       "    <tr>\n",
       "      <th>16383</th>\n",
       "      <td>31-Dec-15</td>\n",
       "      <td>^N20I</td>\n",
       "      <td>NSE 20-Share Index</td>\n",
       "      <td>1,873.47</td>\n",
       "      <td>2,766.77</td>\n",
       "      <td>4,040.75</td>\n",
       "      <td>4,040.75</td>\n",
       "      <td>4,040.75</td>\n",
       "      <td>3,992.57</td>\n",
       "      <td>48.18</td>\n",
       "      <td>1.21%</td>\n",
       "      <td>-</td>\n",
       "      <td>-</td>\n",
       "    </tr>\n",
       "    <tr>\n",
       "      <th>16384</th>\n",
       "      <td>31-Dec-15</td>\n",
       "      <td>^N25I</td>\n",
       "      <td>NSE 25-Share Index</td>\n",
       "      <td>2,943.60</td>\n",
       "      <td>4,207.90</td>\n",
       "      <td>4,194.80</td>\n",
       "      <td>4,194.80</td>\n",
       "      <td>4,194.80</td>\n",
       "      <td>4,137.14</td>\n",
       "      <td>57.66</td>\n",
       "      <td>1.39%</td>\n",
       "      <td>-</td>\n",
       "      <td>-</td>\n",
       "    </tr>\n",
       "    <tr>\n",
       "      <th>16385</th>\n",
       "      <td>31-Dec-15</td>\n",
       "      <td>^NASI</td>\n",
       "      <td>NSE All-Share Index</td>\n",
       "      <td>124.3</td>\n",
       "      <td>171.36</td>\n",
       "      <td>145.7</td>\n",
       "      <td>145.7</td>\n",
       "      <td>145.7</td>\n",
       "      <td>144.37</td>\n",
       "      <td>1.33</td>\n",
       "      <td>0.92%</td>\n",
       "      <td>-</td>\n",
       "      <td>-</td>\n",
       "    </tr>\n",
       "  </tbody>\n",
       "</table>\n",
       "<p>16386 rows × 13 columns</p>\n",
       "</div>"
      ],
      "text/plain": [
       "            DATE    CODE                     NAME   12m Low  12m High  \\\n",
       "0       2-Jan-15    EGAD              Eaagads Ltd       8.2        14   \n",
       "1       2-Jan-15    KUKZ               Kakuzi Plc       300     423.5   \n",
       "2       2-Jan-15    KAPC  Kapchorua Tea Kenya Plc        59        95   \n",
       "3       2-Jan-15    LIMT           Limuru Tea Plc       385       475   \n",
       "4       2-Jan-15    SASN               Sasini Plc      14.8      19.6   \n",
       "...          ...     ...                      ...       ...       ...   \n",
       "16381  31-Dec-15  ^FNK15  FTSE NSE Kenya 15 Index    154.41    227.73   \n",
       "16382  31-Dec-15  ^FNK25  FTSE NSE Kenya 25 Index    162.87    238.71   \n",
       "16383  31-Dec-15   ^N20I       NSE 20-Share Index  1,873.47  2,766.77   \n",
       "16384  31-Dec-15   ^N25I       NSE 25-Share Index  2,943.60  4,207.90   \n",
       "16385  31-Dec-15   ^NASI      NSE All-Share Index     124.3    171.36   \n",
       "\n",
       "        Day Low  Day High Day Price  Previous Change Change% Volume Adjust  \n",
       "0            42        42        42        42      -       -      -      -  \n",
       "1           180       180       180       180      -       -  5,200      -  \n",
       "2           137       137       137       137      -       -      -   68.5  \n",
       "3           771       771       771       771      -       -      -  385.5  \n",
       "4            13        13        13     12.85   0.15   1.17%  1,000      -  \n",
       "...         ...       ...       ...       ...    ...     ...    ...    ...  \n",
       "16381    182.69    186.64    186.64    182.69   3.95   2.16%      -      -  \n",
       "16382    182.32    186.25    186.25    182.32   3.93   2.16%      -      -  \n",
       "16383  4,040.75  4,040.75  4,040.75  3,992.57  48.18   1.21%      -      -  \n",
       "16384  4,194.80  4,194.80  4,194.80  4,137.14  57.66   1.39%      -      -  \n",
       "16385     145.7     145.7     145.7    144.37   1.33   0.92%      -      -  \n",
       "\n",
       "[16386 rows x 13 columns]"
      ]
     },
     "execution_count": 45,
     "metadata": {},
     "output_type": "execute_result"
    }
   ],
   "source": [
    "df"
   ]
  },
  {
   "cell_type": "markdown",
   "id": "d006620b",
   "metadata": {},
   "source": [
    "#data frames data types "
   ]
  },
  {
   "cell_type": "code",
   "execution_count": 47,
   "id": "21ef29af",
   "metadata": {},
   "outputs": [
    {
     "data": {
      "text/plain": [
       "DATE         object\n",
       "CODE         object\n",
       "NAME         object\n",
       "12m Low      object\n",
       "12m High     object\n",
       "Day Low      object\n",
       "Day High     object\n",
       "Day Price    object\n",
       "Previous     object\n",
       "Change       object\n",
       "Change%      object\n",
       "Volume       object\n",
       "Adjust       object\n",
       "dtype: object"
      ]
     },
     "execution_count": 47,
     "metadata": {},
     "output_type": "execute_result"
    }
   ],
   "source": [
    "#check type for all the coumns\n",
    "df.dtypes"
   ]
  },
  {
   "cell_type": "code",
   "execution_count": 48,
   "id": "96f38d68",
   "metadata": {},
   "outputs": [],
   "source": [
    "#data frames attributes"
   ]
  },
  {
   "cell_type": "code",
   "execution_count": 50,
   "id": "93c24406",
   "metadata": {},
   "outputs": [
    {
     "data": {
      "text/plain": [
       "(16386, 13)"
      ]
     },
     "execution_count": 50,
     "metadata": {},
     "output_type": "execute_result"
    }
   ],
   "source": [
    "#find how many records this data frame has\n",
    "df.shape"
   ]
  },
  {
   "cell_type": "code",
   "execution_count": 51,
   "id": "c3fcbce0",
   "metadata": {},
   "outputs": [
    {
     "data": {
      "text/plain": [
       "213018"
      ]
     },
     "execution_count": 51,
     "metadata": {},
     "output_type": "execute_result"
    }
   ],
   "source": [
    "#how many elements are there?\n",
    "df.size"
   ]
  },
  {
   "cell_type": "code",
   "execution_count": 52,
   "id": "c0115e7f",
   "metadata": {},
   "outputs": [
    {
     "data": {
      "text/plain": [
       "Index(['DATE', 'CODE', 'NAME', '12m Low', '12m High', 'Day Low', 'Day High',\n",
       "       'Day Price', 'Previous', 'Change', 'Change%', 'Volume', 'Adjust'],\n",
       "      dtype='object')"
      ]
     },
     "execution_count": 52,
     "metadata": {},
     "output_type": "execute_result"
    }
   ],
   "source": [
    "#what are the column names?\n",
    "df.columns"
   ]
  },
  {
   "cell_type": "markdown",
   "id": "bfec3f9a",
   "metadata": {},
   "source": [
    "#data frames methods "
   ]
  },
  {
   "cell_type": "code",
   "execution_count": 53,
   "id": "dec31f45",
   "metadata": {},
   "outputs": [
    {
     "data": {
      "text/plain": [
       "Series([], dtype: float64)"
      ]
     },
     "execution_count": 53,
     "metadata": {},
     "output_type": "execute_result"
    }
   ],
   "source": [
    "#calculate standard deviation for all the numeric columns\n",
    "df.std()"
   ]
  },
  {
   "cell_type": "code",
   "execution_count": 54,
   "id": "19a13239",
   "metadata": {},
   "outputs": [
    {
     "data": {
      "text/plain": [
       "Series([], dtype: float64)"
      ]
     },
     "execution_count": 54,
     "metadata": {},
     "output_type": "execute_result"
    }
   ],
   "source": [
    "#what are the mean value for allthe numeric columns \n",
    "df.mean()"
   ]
  },
  {
   "cell_type": "code",
   "execution_count": 55,
   "id": "760713cb",
   "metadata": {},
   "outputs": [],
   "source": [
    "import os"
   ]
  },
  {
   "cell_type": "code",
   "execution_count": 56,
   "id": "c02d4cd0",
   "metadata": {},
   "outputs": [
    {
     "data": {
      "text/plain": [
       "'C:\\\\Users\\\\LEXISHEMA$\\\\Downloads'"
      ]
     },
     "execution_count": 56,
     "metadata": {},
     "output_type": "execute_result"
    }
   ],
   "source": [
    "os.getcwd()"
   ]
  },
  {
   "cell_type": "code",
   "execution_count": 57,
   "id": "6bf1cfd6",
   "metadata": {},
   "outputs": [],
   "source": [
    "df = pd.read_csv('NSE_data_all_stocks_2016.csv')"
   ]
  },
  {
   "cell_type": "code",
   "execution_count": 58,
   "id": "f8590cb0",
   "metadata": {
    "scrolled": true
   },
   "outputs": [
    {
     "data": {
      "text/html": [
       "<div>\n",
       "<style scoped>\n",
       "    .dataframe tbody tr th:only-of-type {\n",
       "        vertical-align: middle;\n",
       "    }\n",
       "\n",
       "    .dataframe tbody tr th {\n",
       "        vertical-align: top;\n",
       "    }\n",
       "\n",
       "    .dataframe thead th {\n",
       "        text-align: right;\n",
       "    }\n",
       "</style>\n",
       "<table border=\"1\" class=\"dataframe\">\n",
       "  <thead>\n",
       "    <tr style=\"text-align: right;\">\n",
       "      <th></th>\n",
       "      <th>DATE</th>\n",
       "      <th>CODE</th>\n",
       "      <th>NAME</th>\n",
       "      <th>12m Low</th>\n",
       "      <th>12m High</th>\n",
       "      <th>Day Low</th>\n",
       "      <th>Day High</th>\n",
       "      <th>Day Price</th>\n",
       "      <th>Previous</th>\n",
       "      <th>Change</th>\n",
       "      <th>Change%</th>\n",
       "      <th>Volume</th>\n",
       "      <th>Adjust</th>\n",
       "    </tr>\n",
       "  </thead>\n",
       "  <tbody>\n",
       "    <tr>\n",
       "      <th>0</th>\n",
       "      <td>04-Jan-16</td>\n",
       "      <td>EGAD</td>\n",
       "      <td>Eaagads Ltd</td>\n",
       "      <td>8.2</td>\n",
       "      <td>14</td>\n",
       "      <td>25</td>\n",
       "      <td>25</td>\n",
       "      <td>25</td>\n",
       "      <td>26.75</td>\n",
       "      <td>-1.75</td>\n",
       "      <td>6.54%</td>\n",
       "      <td>400</td>\n",
       "      <td>-</td>\n",
       "    </tr>\n",
       "    <tr>\n",
       "      <th>1</th>\n",
       "      <td>04-Jan-16</td>\n",
       "      <td>KUKZ</td>\n",
       "      <td>Kakuzi Plc</td>\n",
       "      <td>300</td>\n",
       "      <td>423.5</td>\n",
       "      <td>317</td>\n",
       "      <td>348</td>\n",
       "      <td>332</td>\n",
       "      <td>317</td>\n",
       "      <td>15</td>\n",
       "      <td>4.73%</td>\n",
       "      <td>200</td>\n",
       "      <td>-</td>\n",
       "    </tr>\n",
       "    <tr>\n",
       "      <th>2</th>\n",
       "      <td>04-Jan-16</td>\n",
       "      <td>KAPC</td>\n",
       "      <td>Kapchorua Tea Kenya Plc</td>\n",
       "      <td>59</td>\n",
       "      <td>95</td>\n",
       "      <td>200</td>\n",
       "      <td>200</td>\n",
       "      <td>200</td>\n",
       "      <td>200</td>\n",
       "      <td>-</td>\n",
       "      <td>-</td>\n",
       "      <td>800</td>\n",
       "      <td>100</td>\n",
       "    </tr>\n",
       "    <tr>\n",
       "      <th>3</th>\n",
       "      <td>04-Jan-16</td>\n",
       "      <td>LIMT</td>\n",
       "      <td>Limuru Tea Plc</td>\n",
       "      <td>385</td>\n",
       "      <td>475</td>\n",
       "      <td>1,085.00</td>\n",
       "      <td>1,085.00</td>\n",
       "      <td>1,085.00</td>\n",
       "      <td>1,085.00</td>\n",
       "      <td>-</td>\n",
       "      <td>-</td>\n",
       "      <td>-</td>\n",
       "      <td>-</td>\n",
       "    </tr>\n",
       "    <tr>\n",
       "      <th>4</th>\n",
       "      <td>04-Jan-16</td>\n",
       "      <td>SASN</td>\n",
       "      <td>Sasini Plc</td>\n",
       "      <td>14.8</td>\n",
       "      <td>19.6</td>\n",
       "      <td>19.5</td>\n",
       "      <td>19.5</td>\n",
       "      <td>19.5</td>\n",
       "      <td>19.55</td>\n",
       "      <td>-0.05</td>\n",
       "      <td>0.26%</td>\n",
       "      <td>700</td>\n",
       "      <td>-</td>\n",
       "    </tr>\n",
       "    <tr>\n",
       "      <th>...</th>\n",
       "      <td>...</td>\n",
       "      <td>...</td>\n",
       "      <td>...</td>\n",
       "      <td>...</td>\n",
       "      <td>...</td>\n",
       "      <td>...</td>\n",
       "      <td>...</td>\n",
       "      <td>...</td>\n",
       "      <td>...</td>\n",
       "      <td>...</td>\n",
       "      <td>...</td>\n",
       "      <td>...</td>\n",
       "      <td>...</td>\n",
       "    </tr>\n",
       "    <tr>\n",
       "      <th>16795</th>\n",
       "      <td>30-Dec-16</td>\n",
       "      <td>^FNK15</td>\n",
       "      <td>FTSE NSE Kenya 15 Index</td>\n",
       "      <td>154.41</td>\n",
       "      <td>227.73</td>\n",
       "      <td>158.64</td>\n",
       "      <td>163.02</td>\n",
       "      <td>161.6</td>\n",
       "      <td>158.85</td>\n",
       "      <td>2.75</td>\n",
       "      <td>1.73%</td>\n",
       "      <td>-</td>\n",
       "      <td>-</td>\n",
       "    </tr>\n",
       "    <tr>\n",
       "      <th>16796</th>\n",
       "      <td>30-Dec-16</td>\n",
       "      <td>^FNK25</td>\n",
       "      <td>FTSE NSE Kenya 25 Index</td>\n",
       "      <td>162.87</td>\n",
       "      <td>238.71</td>\n",
       "      <td>163.21</td>\n",
       "      <td>167.38</td>\n",
       "      <td>166.2</td>\n",
       "      <td>163.41</td>\n",
       "      <td>2.79</td>\n",
       "      <td>1.71%</td>\n",
       "      <td>-</td>\n",
       "      <td>-</td>\n",
       "    </tr>\n",
       "    <tr>\n",
       "      <th>16797</th>\n",
       "      <td>30-Dec-16</td>\n",
       "      <td>^N20I</td>\n",
       "      <td>NSE 20-Share Index</td>\n",
       "      <td>1,873.47</td>\n",
       "      <td>2,766.77</td>\n",
       "      <td>3,186.21</td>\n",
       "      <td>3,186.21</td>\n",
       "      <td>3,186.21</td>\n",
       "      <td>3,130.93</td>\n",
       "      <td>55.28</td>\n",
       "      <td>1.77%</td>\n",
       "      <td>-</td>\n",
       "      <td>-</td>\n",
       "    </tr>\n",
       "    <tr>\n",
       "      <th>16798</th>\n",
       "      <td>30-Dec-16</td>\n",
       "      <td>^N25I</td>\n",
       "      <td>NSE 25-Share Index</td>\n",
       "      <td>2,943.60</td>\n",
       "      <td>4,207.90</td>\n",
       "      <td>3,530.07</td>\n",
       "      <td>3,530.07</td>\n",
       "      <td>3,530.07</td>\n",
       "      <td>3,455.66</td>\n",
       "      <td>74.41</td>\n",
       "      <td>2.15%</td>\n",
       "      <td>-</td>\n",
       "      <td>-</td>\n",
       "    </tr>\n",
       "    <tr>\n",
       "      <th>16799</th>\n",
       "      <td>30-Dec-16</td>\n",
       "      <td>^NASI</td>\n",
       "      <td>NSE All-Share Index</td>\n",
       "      <td>124.3</td>\n",
       "      <td>171.36</td>\n",
       "      <td>133.34</td>\n",
       "      <td>133.34</td>\n",
       "      <td>133.34</td>\n",
       "      <td>131.47</td>\n",
       "      <td>1.87</td>\n",
       "      <td>1.42%</td>\n",
       "      <td>-</td>\n",
       "      <td>-</td>\n",
       "    </tr>\n",
       "  </tbody>\n",
       "</table>\n",
       "<p>16800 rows × 13 columns</p>\n",
       "</div>"
      ],
      "text/plain": [
       "            DATE    CODE                     NAME   12m Low  12m High  \\\n",
       "0      04-Jan-16    EGAD              Eaagads Ltd       8.2        14   \n",
       "1      04-Jan-16    KUKZ               Kakuzi Plc       300     423.5   \n",
       "2      04-Jan-16    KAPC  Kapchorua Tea Kenya Plc        59        95   \n",
       "3      04-Jan-16    LIMT           Limuru Tea Plc       385       475   \n",
       "4      04-Jan-16    SASN               Sasini Plc      14.8      19.6   \n",
       "...          ...     ...                      ...       ...       ...   \n",
       "16795  30-Dec-16  ^FNK15  FTSE NSE Kenya 15 Index    154.41    227.73   \n",
       "16796  30-Dec-16  ^FNK25  FTSE NSE Kenya 25 Index    162.87    238.71   \n",
       "16797  30-Dec-16   ^N20I       NSE 20-Share Index  1,873.47  2,766.77   \n",
       "16798  30-Dec-16   ^N25I       NSE 25-Share Index  2,943.60  4,207.90   \n",
       "16799  30-Dec-16   ^NASI      NSE All-Share Index     124.3    171.36   \n",
       "\n",
       "        Day Low  Day High Day Price  Previous Change Change% Volume Adjust  \n",
       "0            25        25        25     26.75  -1.75   6.54%    400      -  \n",
       "1           317       348       332       317     15   4.73%    200      -  \n",
       "2           200       200       200       200      -       -    800    100  \n",
       "3      1,085.00  1,085.00  1,085.00  1,085.00      -       -      -      -  \n",
       "4          19.5      19.5      19.5     19.55  -0.05   0.26%    700      -  \n",
       "...         ...       ...       ...       ...    ...     ...    ...    ...  \n",
       "16795    158.64    163.02     161.6    158.85   2.75   1.73%      -      -  \n",
       "16796    163.21    167.38     166.2    163.41   2.79   1.71%      -      -  \n",
       "16797  3,186.21  3,186.21  3,186.21  3,130.93  55.28   1.77%      -      -  \n",
       "16798  3,530.07  3,530.07  3,530.07  3,455.66  74.41   2.15%      -      -  \n",
       "16799    133.34    133.34    133.34    131.47   1.87   1.42%      -      -  \n",
       "\n",
       "[16800 rows x 13 columns]"
      ]
     },
     "execution_count": 58,
     "metadata": {},
     "output_type": "execute_result"
    }
   ],
   "source": [
    "df"
   ]
  },
  {
   "cell_type": "code",
   "execution_count": 3,
   "id": "c819c693",
   "metadata": {
    "scrolled": true
   },
   "outputs": [
    {
     "ename": "NameError",
     "evalue": "name 'df' is not defined",
     "output_type": "error",
     "traceback": [
      "\u001b[1;31m---------------------------------------------------------------------------\u001b[0m",
      "\u001b[1;31mNameError\u001b[0m                                 Traceback (most recent call last)",
      "\u001b[1;32m<ipython-input-3-a8b46ddf0b0b>\u001b[0m in \u001b[0;36m<module>\u001b[1;34m\u001b[0m\n\u001b[0;32m      1\u001b[0m \u001b[1;31m#check types for all the columns\u001b[0m\u001b[1;33m\u001b[0m\u001b[1;33m\u001b[0m\u001b[1;33m\u001b[0m\u001b[0m\n\u001b[1;32m----> 2\u001b[1;33m \u001b[0mdf\u001b[0m\u001b[1;33m.\u001b[0m\u001b[0mdtypes\u001b[0m\u001b[1;33m\u001b[0m\u001b[1;33m\u001b[0m\u001b[0m\n\u001b[0m",
      "\u001b[1;31mNameError\u001b[0m: name 'df' is not defined"
     ]
    }
   ],
   "source": [
    "#check types for all the columns \n",
    "df.dtypes"
   ]
  },
  {
   "cell_type": "code",
   "execution_count": 4,
   "id": "ccb154ae",
   "metadata": {},
   "outputs": [],
   "source": [
    "import os "
   ]
  },
  {
   "cell_type": "code",
   "execution_count": 5,
   "id": "4c6b3476",
   "metadata": {},
   "outputs": [
    {
     "data": {
      "text/plain": [
       "'C:\\\\Users\\\\LEXISHEMA$'"
      ]
     },
     "execution_count": 5,
     "metadata": {},
     "output_type": "execute_result"
    }
   ],
   "source": [
    "os.getcwd()"
   ]
  },
  {
   "cell_type": "code",
   "execution_count": 7,
   "id": "41d2319e",
   "metadata": {},
   "outputs": [],
   "source": [
    "os.chdir(\"C:\\\\Users\\\\LEXISHEMA$\\\\Downloads\")"
   ]
  },
  {
   "cell_type": "code",
   "execution_count": 8,
   "id": "305e8ac9",
   "metadata": {},
   "outputs": [
    {
     "data": {
      "text/plain": [
       "'C:\\\\Users\\\\LEXISHEMA$\\\\Downloads'"
      ]
     },
     "execution_count": 8,
     "metadata": {},
     "output_type": "execute_result"
    }
   ],
   "source": [
    "os.getcwd()"
   ]
  },
  {
   "cell_type": "code",
   "execution_count": 10,
   "id": "1121c21a",
   "metadata": {},
   "outputs": [
    {
     "ename": "NameError",
     "evalue": "name 'pd' is not defined",
     "output_type": "error",
     "traceback": [
      "\u001b[1;31m---------------------------------------------------------------------------\u001b[0m",
      "\u001b[1;31mNameError\u001b[0m                                 Traceback (most recent call last)",
      "\u001b[1;32m<ipython-input-10-d861da14464f>\u001b[0m in \u001b[0;36m<module>\u001b[1;34m\u001b[0m\n\u001b[1;32m----> 1\u001b[1;33m \u001b[0mdf\u001b[0m \u001b[1;33m=\u001b[0m \u001b[0mpd\u001b[0m\u001b[1;33m.\u001b[0m\u001b[0mread\u001b[0m\u001b[1;33m.\u001b[0m\u001b[0mcsv\u001b[0m\u001b[1;33m(\u001b[0m\u001b[1;34m'NSE_data_all_stocks_2017.csv'\u001b[0m\u001b[1;33m)\u001b[0m\u001b[1;33m\u001b[0m\u001b[1;33m\u001b[0m\u001b[0m\n\u001b[0m",
      "\u001b[1;31mNameError\u001b[0m: name 'pd' is not defined"
     ]
    }
   ],
   "source": [
    "df = pd.read.csv('NSE_data_all_stocks_2017.csv')"
   ]
  },
  {
   "cell_type": "code",
   "execution_count": null,
   "id": "b28015c6",
   "metadata": {},
   "outputs": [],
   "source": []
  }
 ],
 "metadata": {
  "kernelspec": {
   "display_name": "Python 3",
   "language": "python",
   "name": "python3"
  },
  "language_info": {
   "codemirror_mode": {
    "name": "ipython",
    "version": 3
   },
   "file_extension": ".py",
   "mimetype": "text/x-python",
   "name": "python",
   "nbconvert_exporter": "python",
   "pygments_lexer": "ipython3",
   "version": "3.8.8"
  }
 },
 "nbformat": 4,
 "nbformat_minor": 5
}
